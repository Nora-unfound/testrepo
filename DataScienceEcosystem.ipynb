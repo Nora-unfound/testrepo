{
  "metadata": {
    "kernelspec": {
      "name": "python",
      "display_name": "Python (Pyodide)",
      "language": "python"
    },
    "language_info": {
      "codemirror_mode": {
        "name": "python",
        "version": 3
      },
      "file_extension": ".py",
      "mimetype": "text/x-python",
      "name": "python",
      "nbconvert_exporter": "python",
      "pygments_lexer": "ipython3",
      "version": "3.8"
    }
  },
  "nbformat_minor": 5,
  "nbformat": 4,
  "cells": [
    {
      "id": "06b2418b-dc50-471d-9dd7-337ee3a68843",
      "cell_type": "markdown",
      "source": "# Data Science Tools and Ecosystem",
      "metadata": {}
    },
    {
      "id": "a1c84ee1-5bb8-4e52-b5f2-b39b8dd1f718",
      "cell_type": "markdown",
      "source": "In this notebook, Data Science Tools and Ecosystem are summarized.",
      "metadata": {}
    },
    {
      "id": "7d5a06b3-5a87-4dc4-8b32-a545818a9d01",
      "cell_type": "markdown",
      "source": "**Objectives:**\n\n- List popular languages for Data Science  \n- Identify commonly used libraries in Data Science  \n- Create and format markdown cells in a Jupyter notebook  \n- Perform arithmetic operations using Python code  \n- Use tables and lists to organize information",
      "metadata": {}
    },
    {
      "id": "f6447823-b174-4211-88c7-5d454e26eb40",
      "cell_type": "markdown",
      "source": "Some of the popular languages that Data Scientists use are:\n1. Python  \n2. R  \n3. SQL  \n4. Julia  ",
      "metadata": {}
    },
    {
      "id": "d1d1260e-456d-4344-be9c-ccd95c68f68c",
      "cell_type": "markdown",
      "source": "Some of the commonly used libraries in data science are:\n1. NumPy  \n2. pandas  \n3. scikit-learn  \n4. matplotlib  ",
      "metadata": {}
    },
    {
      "id": "ff36db10-b24f-4472-83e9-5d07f9edfa04",
      "cell_type": "markdown",
      "source": "| Data Science Tools          |\n|----------------------------|\n| Jupyter Notebook           |\n| RStudio                    |\n| Apache Zeppelin            |",
      "metadata": {}
    },
    {
      "id": "adc6d22c-44c2-4e00-8564-6f5587b11611",
      "cell_type": "markdown",
      "source": "### Below are a few examples of evaluating arithmetic expressions in Python",
      "metadata": {}
    },
    {
      "id": "f5bca569-dbeb-4ca0-b658-c2c52f669535",
      "cell_type": "code",
      "source": "(3*4)+5\n# This a simple arithmetic expression to mutiply then add integers",
      "metadata": {
        "trusted": true
      },
      "outputs": [
        {
          "execution_count": 12,
          "output_type": "execute_result",
          "data": {
            "text/plain": "17"
          },
          "metadata": {}
        }
      ],
      "execution_count": 12
    },
    {
      "id": "0c39b3a0-01b5-4a3f-a186-32dd1b7855dc",
      "cell_type": "code",
      "source": "200 / 60\n# This will convert 200 minutes to hours by dividing by 60",
      "metadata": {
        "trusted": true
      },
      "outputs": [
        {
          "execution_count": 13,
          "output_type": "execute_result",
          "data": {
            "text/plain": "3.3333333333333335"
          },
          "metadata": {}
        }
      ],
      "execution_count": 13
    },
    {
      "id": "707bf0ff-3525-4149-bd90-e65f20b75663",
      "cell_type": "markdown",
      "source": "## Author: Nora",
      "metadata": {}
    },
    {
      "id": "5d4c6b2f-0e29-4ac9-91f6-791e4c853808",
      "cell_type": "code",
      "source": "",
      "metadata": {
        "trusted": true
      },
      "outputs": [],
      "execution_count": null
    }
  ]
}